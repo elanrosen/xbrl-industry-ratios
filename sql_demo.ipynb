{
 "cells": [
  {
   "cell_type": "code",
   "execution_count": 5,
   "metadata": {},
   "outputs": [
    {
     "name": "stdout",
     "output_type": "stream",
     "text": [
      "     report_id                   entity_name reporting_period_end_date  \\\n",
      "0       351662          INVACARE CORPORATION                2021-03-31   \n",
      "1       356694           Sanara MedTech Inc.                2021-03-31   \n",
      "2       357708     BIOSIG TECHNOLOGIES, INC.                2021-03-31   \n",
      "3       366315   ADM TRONICS UNLIMITED, INC.                2021-03-31   \n",
      "4       343812           AngioDynamics, Inc.                2021-02-28   \n",
      "..         ...                           ...                       ...   \n",
      "203     357438     RESHAPE LIFESCIENCES INC.                2021-03-31   \n",
      "204     353910              RenovaCare, Inc.                2021-03-31   \n",
      "205     339769          Cantel Medical Corp.                2021-01-31   \n",
      "206     356163          VIVEVE MEDICAL, INC.                2021-03-31   \n",
      "207     332210  VARIAN MEDICAL SYSTEMS, INC.                2021-01-01   \n",
      "\n",
      "    document_type  \n",
      "0            10-Q  \n",
      "1            10-Q  \n",
      "2            10-Q  \n",
      "3            10-K  \n",
      "4            10-Q  \n",
      "..            ...  \n",
      "203          10-Q  \n",
      "204          10-Q  \n",
      "205          10-Q  \n",
      "206          10-Q  \n",
      "207          10-Q  \n",
      "\n",
      "[208 rows x 4 columns]\n"
     ]
    }
   ],
   "source": [
    "import os\n",
    "import psycopg2\n",
    "import pandas as pd\n",
    "from datetime import datetime, timedelta\n",
    "from dotenv import load_dotenv\n",
    "\n",
    "# Load environment variables from .env file\n",
    "load_dotenv()\n",
    "\n",
    "# Function to get the start and end dates of the fiscal quarter\n",
    "def get_fiscal_quarter_dates(date):\n",
    "    # Convert the input datetime to a pandas Timestamp\n",
    "    date = pd.Timestamp(date)\n",
    "    # Get the quarter number\n",
    "    quarter = date.quarter\n",
    "    # Calculate the start date of the quarter\n",
    "    quarter_start_date = pd.Timestamp(year=date.year, month=3 * (quarter - 1) + 1, day=1)\n",
    "    # Calculate the end date of the quarter by getting the first day of the next quarter and subtracting 1 day\n",
    "    quarter_end_date = (quarter_start_date + pd.offsets.QuarterEnd()).date()  # pandas automatically moves to the end of the quarter, so just add a quarter end offset\n",
    "    # Format dates as strings\n",
    "    return quarter_start_date.strftime('%Y-%m-%d'), quarter_end_date.strftime('%Y-%m-%d')\n",
    "\n",
    "# Get the date from the user or any source\n",
    "input_date = datetime(2021, 1, 1)\n",
    "\n",
    "sic_code = '384'  # Modify this as needed\n",
    "\n",
    "# Get the start and end dates of the fiscal quarter\n",
    "start_date, end_date = get_fiscal_quarter_dates(input_date)\n",
    "\n",
    "# Database connection parameters\n",
    "params = {\n",
    "    'host': 'public.xbrl.us',\n",
    "    'port': '5432',\n",
    "    'database': 'edgar_db',\n",
    "    'user': os.getenv('DB_USER'),\n",
    "    'password': os.getenv('DB_PASSWORD')\n",
    "}\n",
    "\n",
    "sql_query = f\"\"\"\n",
    "SELECT report.report_id, report.entity_name, report.reporting_period_end_date, report.properties->>'document_type' AS document_type\n",
    "FROM report\n",
    "WHERE report.reporting_period_end_date >= '{start_date}'\n",
    "AND report.reporting_period_end_date <= '{end_date}'\n",
    "AND (report.properties->>'standard_industrial_classification')::text LIKE '{sic_code}%'\n",
    "AND report.source_id = (SELECT source_id FROM source WHERE source_name = 'SEC')\n",
    "AND report.properties->>'document_type' IN ('10-Q', '10-K');\n",
    "\"\"\"\n",
    "\n",
    "# Connect to the database\n",
    "try:\n",
    "    conn = psycopg2.connect(**params)\n",
    "    cursor = conn.cursor()\n",
    "    cursor.execute(sql_query)\n",
    "    # Fetch all rows\n",
    "    rows = cursor.fetchall()\n",
    "    # Get column names\n",
    "    col_names = [desc[0] for desc in cursor.description]\n",
    "    # Create DataFrame\n",
    "    df = pd.DataFrame(rows, columns=col_names)\n",
    "    # Close cursor and connection\n",
    "    cursor.close()\n",
    "    conn.close()\n",
    "except (Exception, psycopg2.DatabaseError) as error:\n",
    "    print(error)\n",
    "\n",
    "# Display the DataFrame\n",
    "print(df)"
   ]
  },
  {
   "cell_type": "code",
   "execution_count": 6,
   "metadata": {},
   "outputs": [
    {
     "name": "stdout",
     "output_type": "stream",
     "text": [
      "All entity names are unique.\n"
     ]
    }
   ],
   "source": [
    "# Check if all entity_name values are unique\n",
    "all_unique = not df['entity_name'].duplicated().any()\n",
    "\n",
    "if all_unique:\n",
    "    print(\"All entity names are unique.\")\n",
    "else:\n",
    "    print(\"Duplicate entity names found.\")"
   ]
  },
  {
   "cell_type": "code",
   "execution_count": null,
   "metadata": {},
   "outputs": [],
   "source": []
  }
 ],
 "metadata": {
  "kernelspec": {
   "display_name": "myenv",
   "language": "python",
   "name": "python3"
  },
  "language_info": {
   "codemirror_mode": {
    "name": "ipython",
    "version": 3
   },
   "file_extension": ".py",
   "mimetype": "text/x-python",
   "name": "python",
   "nbconvert_exporter": "python",
   "pygments_lexer": "ipython3",
   "version": "3.11.4"
  }
 },
 "nbformat": 4,
 "nbformat_minor": 2
}
