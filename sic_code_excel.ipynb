{
 "cells": [
  {
   "cell_type": "code",
   "execution_count": 1,
   "metadata": {},
   "outputs": [
    {
     "name": "stdout",
     "output_type": "stream",
     "text": [
      "Excel file 'ticker_sic_mapping.xlsx' has been created successfully.\n"
     ]
    }
   ],
   "source": [
    "import pandas as pd\n",
    "import json\n",
    "\n",
    "# Load JSON data from file\n",
    "with open('sic_code_output.json', 'r') as f:\n",
    "    data = json.load(f)\n",
    "\n",
    "# Convert data to DataFrame\n",
    "df = pd.DataFrame(list(data.items()), columns=['Ticker', 'SIC'])\n",
    "\n",
    "# Extract first 3 digits of SIC code\n",
    "df['SIC'] = df['SIC'].astype(str).str[:3]\n",
    "\n",
    "# Save DataFrame to Excel file\n",
    "excel_file = 'ticker_sic_mapping.xlsx'\n",
    "df.to_excel(excel_file, index=False)\n",
    "\n",
    "print(f\"Excel file '{excel_file}' has been created successfully.\")\n"
   ]
  }
 ],
 "metadata": {
  "kernelspec": {
   "display_name": "myenv",
   "language": "python",
   "name": "python3"
  },
  "language_info": {
   "codemirror_mode": {
    "name": "ipython",
    "version": 3
   },
   "file_extension": ".py",
   "mimetype": "text/x-python",
   "name": "python",
   "nbconvert_exporter": "python",
   "pygments_lexer": "ipython3",
   "version": "3.11.4"
  }
 },
 "nbformat": 4,
 "nbformat_minor": 2
}
