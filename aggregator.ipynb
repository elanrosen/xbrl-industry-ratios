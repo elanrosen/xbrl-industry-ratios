{
 "cells": [
  {
   "cell_type": "code",
   "execution_count": 2,
   "metadata": {},
   "outputs": [
    {
     "name": "stdout",
     "output_type": "stream",
     "text": [
      "0        2.872000e+06\n",
      "1        0.000000e+00\n",
      "2        0.000000e+00\n",
      "3        0.000000e+00\n",
      "4        1.375088e+09\n",
      "             ...     \n",
      "29367    0.000000e+00\n",
      "29368    0.000000e+00\n",
      "29369    4.400000e+06\n",
      "29370    0.000000e+00\n",
      "29371    0.000000e+00\n",
      "Name: total_debt, Length: 29372, dtype: float64\n"
     ]
    }
   ],
   "source": [
    "import sqlite3\n",
    "import pandas as pd\n",
    "\n",
    "# Connect to the SQLite database\n",
    "conn = sqlite3.connect('reports_v5.db')\n",
    "\n",
    "# Read SQL query into a DataFrame\n",
    "query = \"SELECT * FROM reports\"\n",
    "df = pd.read_sql(query, conn, index_col='report_id')\n",
    "\n",
    "# Define a function to calculate total debt\n",
    "def calculate_total_debt(row):\n",
    "    if row['DebtNoncurrent'] != 0:\n",
    "        return row['DebtNoncurrent'] + row['DebtCurrent']\n",
    "    elif row['LongTermDebtNoncurrent'] != 0:\n",
    "        return row['LongTermDebtNoncurrent'] + row['DebtCurrent']\n",
    "    else:\n",
    "        return row['CapitalLeaseObligationsNoncurrent'] + row['FinanceLeaseLiabilityNoncurrent'] + \\\n",
    "               row['CapitalLeaseObligationsCurrent'] + row['LinesOfCreditCurrent'] + row['FinanceLeaseLiabilityCurrent']\n",
    "\n",
    "# Apply the function to create a new column 'total_debt'\n",
    "df['total_debt'] = df.apply(calculate_total_debt, axis=1)\n",
    "\n",
    "# Print the DataFrame with the new column\n",
    "print(df['total_debt'])\n"
   ]
  },
  {
   "cell_type": "code",
   "execution_count": 3,
   "metadata": {},
   "outputs": [
    {
     "name": "stdout",
     "output_type": "stream",
     "text": [
      "Percentage of entries with total_debt equal to 0: 70.19950973716465 %\n"
     ]
    }
   ],
   "source": [
    "# Calculate the total number of entries\n",
    "total_entries = len(df)\n",
    "\n",
    "# Calculate the number of entries where total_debt is equal to 0\n",
    "num_zero_debt_entries = (df['total_debt'] == 0).sum()\n",
    "\n",
    "# Calculate the percentage\n",
    "percent_zero_debt_entries = (num_zero_debt_entries / total_entries) * 100\n",
    "\n",
    "# Print the percentage\n",
    "print(\"Percentage of entries with total_debt equal to 0:\", percent_zero_debt_entries, \"%\")"
   ]
  },
  {
   "cell_type": "code",
   "execution_count": 5,
   "metadata": {},
   "outputs": [
    {
     "ename": "AttributeError",
     "evalue": "'DataFrame' object has no attribute 'append'",
     "output_type": "error",
     "traceback": [
      "\u001b[0;31m---------------------------------------------------------------------------\u001b[0m",
      "\u001b[0;31mAttributeError\u001b[0m                            Traceback (most recent call last)",
      "\u001b[0;32m/var/folders/6d/swd0lhd16qs5xsrqdctfv3y00000gn/T/ipykernel_40739/3605758615.py\u001b[0m in \u001b[0;36m?\u001b[0;34m()\u001b[0m\n\u001b[1;32m     36\u001b[0m     \u001b[0mmedian_debt_to_asset_ratio\u001b[0m \u001b[0;34m=\u001b[0m \u001b[0mpd\u001b[0m\u001b[0;34m.\u001b[0m\u001b[0mSeries\u001b[0m\u001b[0;34m(\u001b[0m\u001b[0mdebt_to_asset_ratios\u001b[0m\u001b[0;34m)\u001b[0m\u001b[0;34m.\u001b[0m\u001b[0mmedian\u001b[0m\u001b[0;34m(\u001b[0m\u001b[0;34m)\u001b[0m\u001b[0;34m\u001b[0m\u001b[0;34m\u001b[0m\u001b[0m\n\u001b[1;32m     37\u001b[0m     \u001b[0mmedian_debt_to_book_equity_ratio\u001b[0m \u001b[0;34m=\u001b[0m \u001b[0mpd\u001b[0m\u001b[0;34m.\u001b[0m\u001b[0mSeries\u001b[0m\u001b[0;34m(\u001b[0m\u001b[0mdebt_to_book_equity_ratios\u001b[0m\u001b[0;34m)\u001b[0m\u001b[0;34m.\u001b[0m\u001b[0mmedian\u001b[0m\u001b[0;34m(\u001b[0m\u001b[0;34m)\u001b[0m\u001b[0;34m\u001b[0m\u001b[0;34m\u001b[0m\u001b[0m\n\u001b[1;32m     38\u001b[0m \u001b[0;34m\u001b[0m\u001b[0m\n\u001b[1;32m     39\u001b[0m     \u001b[0;31m# Append the results to the results DataFrame\u001b[0m\u001b[0;34m\u001b[0m\u001b[0;34m\u001b[0m\u001b[0m\n\u001b[0;32m---> 40\u001b[0;31m     results_df = results_df.append({'key': key,\n\u001b[0m\u001b[1;32m     41\u001b[0m                                     \u001b[0;34m'debt_to_asset_ratio_median'\u001b[0m\u001b[0;34m:\u001b[0m \u001b[0mmedian_debt_to_asset_ratio\u001b[0m\u001b[0;34m,\u001b[0m\u001b[0;34m\u001b[0m\u001b[0;34m\u001b[0m\u001b[0m\n\u001b[1;32m     42\u001b[0m                                     'debt_to_book_equity_median': median_debt_to_book_equity_ratio},\n\u001b[1;32m     43\u001b[0m                                    ignore_index=True)\n",
      "\u001b[0;32m~/Documents/XBRL_Cato/myenv/lib/python3.11/site-packages/pandas/core/generic.py\u001b[0m in \u001b[0;36m?\u001b[0;34m(self, name)\u001b[0m\n\u001b[1;32m   6292\u001b[0m             \u001b[0;32mand\u001b[0m \u001b[0mname\u001b[0m \u001b[0;32mnot\u001b[0m \u001b[0;32min\u001b[0m \u001b[0mself\u001b[0m\u001b[0;34m.\u001b[0m\u001b[0m_accessors\u001b[0m\u001b[0;34m\u001b[0m\u001b[0;34m\u001b[0m\u001b[0m\n\u001b[1;32m   6293\u001b[0m             \u001b[0;32mand\u001b[0m \u001b[0mself\u001b[0m\u001b[0;34m.\u001b[0m\u001b[0m_info_axis\u001b[0m\u001b[0;34m.\u001b[0m\u001b[0m_can_hold_identifiers_and_holds_name\u001b[0m\u001b[0;34m(\u001b[0m\u001b[0mname\u001b[0m\u001b[0;34m)\u001b[0m\u001b[0;34m\u001b[0m\u001b[0;34m\u001b[0m\u001b[0m\n\u001b[1;32m   6294\u001b[0m         ):\n\u001b[1;32m   6295\u001b[0m             \u001b[0;32mreturn\u001b[0m \u001b[0mself\u001b[0m\u001b[0;34m[\u001b[0m\u001b[0mname\u001b[0m\u001b[0;34m]\u001b[0m\u001b[0;34m\u001b[0m\u001b[0;34m\u001b[0m\u001b[0m\n\u001b[0;32m-> 6296\u001b[0;31m         \u001b[0;32mreturn\u001b[0m \u001b[0mobject\u001b[0m\u001b[0;34m.\u001b[0m\u001b[0m__getattribute__\u001b[0m\u001b[0;34m(\u001b[0m\u001b[0mself\u001b[0m\u001b[0;34m,\u001b[0m \u001b[0mname\u001b[0m\u001b[0;34m)\u001b[0m\u001b[0;34m\u001b[0m\u001b[0;34m\u001b[0m\u001b[0m\n\u001b[0m",
      "\u001b[0;31mAttributeError\u001b[0m: 'DataFrame' object has no attribute 'append'"
     ]
    }
   ],
   "source": [
    "import pandas as pd\n",
    "import json\n",
    "\n",
    "# Read the JSON file into a Python dictionary\n",
    "with open('report_data_v2.json', 'r') as f:\n",
    "    report_data = json.load(f)\n",
    "\n",
    "# Create an empty DataFrame to store the results\n",
    "results_df = pd.DataFrame(columns=['key', 'debt_to_asset_ratio_median', 'debt_to_book_equity_median'])\n",
    "\n",
    "# Iterate over each key in the report data\n",
    "for key, reports in report_data.items():\n",
    "    # Create a list to store debt to asset ratios and debt to book equity ratios for each report_id\n",
    "    debt_to_asset_ratios = []\n",
    "    debt_to_book_equity_ratios = []\n",
    "    \n",
    "    # Iterate over each report in the current key\n",
    "    for report in reports:\n",
    "        report_id = report['report_id']\n",
    "        \n",
    "        # Calculate debt to asset ratio and debt to book equity ratio\n",
    "        total_debt = df.loc[report_id, 'total_debt']\n",
    "        assets = df.loc[report_id, 'Assets']\n",
    "        stockholders_equity = df.loc[report_id, 'StockholdersEquity']\n",
    "        \n",
    "        debt_to_asset_ratio = total_debt / assets\n",
    "        debt_to_book_equity_ratio = total_debt / stockholders_equity\n",
    "        \n",
    "        # Append the ratios to the lists\n",
    "        debt_to_asset_ratios.append(debt_to_asset_ratio)\n",
    "        debt_to_book_equity_ratios.append(debt_to_book_equity_ratio)\n",
    "    \n",
    "    # Calculate the median of debt to asset ratios and debt to book equity ratios\n",
    "    median_debt_to_asset_ratio = pd.Series(debt_to_asset_ratios).median()\n",
    "    median_debt_to_book_equity_ratio = pd.Series(debt_to_book_equity_ratios).median()\n",
    "    \n",
    "    # Append the results to the results DataFrame\n",
    "    results_df = results_df.append({'key': key,\n",
    "                                    'debt_to_asset_ratio_median': median_debt_to_asset_ratio,\n",
    "                                    'debt_to_book_equity_median': median_debt_to_book_equity_ratio},\n",
    "                                   ignore_index=True)\n",
    "\n",
    "# Print the results\n",
    "print(results_df)\n"
   ]
  },
  {
   "cell_type": "code",
   "execution_count": null,
   "metadata": {},
   "outputs": [],
   "source": []
  }
 ],
 "metadata": {
  "kernelspec": {
   "display_name": "myenv",
   "language": "python",
   "name": "python3"
  },
  "language_info": {
   "codemirror_mode": {
    "name": "ipython",
    "version": 3
   },
   "file_extension": ".py",
   "mimetype": "text/x-python",
   "name": "python",
   "nbconvert_exporter": "python",
   "pygments_lexer": "ipython3",
   "version": "3.11.4"
  }
 },
 "nbformat": 4,
 "nbformat_minor": 2
}
